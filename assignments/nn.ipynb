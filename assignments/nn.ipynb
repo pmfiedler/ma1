{
 "cells": [
  {
   "cell_type": "markdown",
   "metadata": {},
   "source": [
    "# Mandatory Assignment 1\n",
    "\n",
    "#### Part I: Multi-layer Perceptron\n",
    "\n",
    "***\n",
    "\n",
    "Please see the description of the assignment in the README file (section 1) <br>\n",
    "**Guide notebook**: [material/nns_pytorch.ipynb](material/nns_pytorch.ipynb)\n",
    "\n",
    "Table of contents:\n",
    "1. Activate GPU\n",
    "2. Load data\n",
    "3. Inspect data\n",
    "4. Artificial neural network (**Where you will implement the ANN**)\n",
    "5. Training hyperparameters (**Where you will add training parameters**)\n",
    "6. Training\n",
    "7. Plot loss and accuracy\n",
    "8. Evaluate\n"
   ]
  },
  {
   "cell_type": "code",
   "execution_count": 2,
   "metadata": {},
   "outputs": [],
   "source": [
    "# auxilary imports\n",
    "import random\n",
    "import matplotlib.pyplot as plt\n",
    "import os\n",
    "from pathlib import Path\n",
    "\n",
    "# pytorch\n",
    "import torch\n",
    "import torch.nn as nn\n",
    "from torchvision import transforms\n",
    "import torch.nn.functional as F  # noqa"
   ]
  },
  {
   "cell_type": "markdown",
   "metadata": {},
   "source": [
    "First, a bit of a hack in case your IDE wants to run the notebook from /`assignment/` and not the project root folder `/ma1`. We need the working directory to be `/ma1` for local imports to work."
   ]
  },
  {
   "cell_type": "code",
   "execution_count": 3,
   "metadata": {},
   "outputs": [
    {
     "name": "stdout",
     "output_type": "stream",
     "text": [
      "Working directory set to: c:\\Users\\charl\\Documents\\CBS\\Code Projects_Python\\AIML25\\mas\\ma1\n"
     ]
    }
   ],
   "source": [
    "# Ensure the working directory is set to the \"ma1\" folder.\n",
    "while Path.cwd().name != \"ma1\" and \"ma1\" in str(Path.cwd()):\n",
    "    os.chdir(\"..\")  # Move up one directory\n",
    "print(f\"Working directory set to: {Path.cwd()}\")"
   ]
  },
  {
   "cell_type": "markdown",
   "metadata": {},
   "source": [
    "##### Import local files\n",
    "\n",
    "To declutter the notebooks, your are given a module (`/src`) of useful functions. Please study each one as they contain important code (particularly `src.training` and `src.evaluation`). "
   ]
  },
  {
   "cell_type": "code",
   "execution_count": 4,
   "metadata": {},
   "outputs": [],
   "source": [
    "# local files\n",
    "from src.utils import get_device\n",
    "from src.data import load_torch_data, to_dataloader, train_val_split\n",
    "from src.training import fit\n",
    "from src.evaluation import evaluate\n",
    "from src.visualize import plot_training_history"
   ]
  },
  {
   "cell_type": "markdown",
   "metadata": {},
   "source": [
    "### 1. Activate GPU\n",
    "If available. Note that this is not necessary, but it will speed up your training."
   ]
  },
  {
   "cell_type": "code",
   "execution_count": 5,
   "metadata": {},
   "outputs": [
    {
     "name": "stdout",
     "output_type": "stream",
     "text": [
      "Running pytorch version (2.5.1) with backend = cpu\n"
     ]
    }
   ],
   "source": [
    "# Device will determine whether to run the training on GPU or CPU.\n",
    "DEVICE = get_device()"
   ]
  },
  {
   "cell_type": "markdown",
   "metadata": {},
   "source": [
    "### 2. Load data"
   ]
  },
  {
   "cell_type": "code",
   "execution_count": 6,
   "metadata": {},
   "outputs": [
    {
     "data": {
      "text/plain": [
       "'len(train_val)=60000, len(test)=10000'"
      ]
     },
     "execution_count": 6,
     "metadata": {},
     "output_type": "execute_result"
    }
   ],
   "source": [
    "# load the training/validation data\n",
    "train_val = load_torch_data(\n",
    "    dataset=\"MNIST\",\n",
    "    root = 'data',                     # The root directory where the dataset will be stored\n",
    "    download = True,                   # If the dataset is not found at root, it will be downloaded\n",
    "    train = True,                      # The train dataset (as opposed to the test dataset)\n",
    "    transform = transforms.ToTensor()  # transformations to be applied to the dataset (only cast to tensor)\n",
    ")\n",
    "\n",
    "# load the testing data\n",
    "test = load_torch_data(\n",
    "    dataset = \"MNIST\",\n",
    "    root = 'data',\n",
    "    download = True,\n",
    "    train = False,\n",
    "    transform = transforms.ToTensor()\n",
    ")\n",
    "\n",
    "f\"{len(train_val)=}, {len(test)=}\""
   ]
  },
  {
   "cell_type": "code",
   "execution_count": 7,
   "metadata": {},
   "outputs": [
    {
     "data": {
      "text/plain": [
       "'len(val)=12000, len(train)=48000'"
      ]
     },
     "execution_count": 7,
     "metadata": {},
     "output_type": "execute_result"
    }
   ],
   "source": [
    "# split training data in training and validation (just like train_test_split in sklearn)\n",
    "train, val = train_val_split(train_val, val_ratio=0.2, seed=42)\n",
    "\n",
    "f\"{len(val)=}, {len(train)=}\""
   ]
  },
  {
   "cell_type": "code",
   "execution_count": 8,
   "metadata": {},
   "outputs": [],
   "source": [
    "# create dataloders for easy batch loading during training\n",
    "train_loader = to_dataloader(train, batch_size = 64, shuffle = True)\n",
    "val_loader = to_dataloader(val, batch_size = 64, shuffle = False)\n",
    "test_loader = to_dataloader(test, batch_size = 64, shuffle = False)"
   ]
  },
  {
   "cell_type": "markdown",
   "metadata": {},
   "source": [
    "### 3. Inspect data"
   ]
  },
  {
   "cell_type": "code",
   "execution_count": 9,
   "metadata": {},
   "outputs": [
    {
     "name": "stdout",
     "output_type": "stream",
     "text": [
      "Default image shape: torch.Size([1, 28, 28])\n",
      "Reshaped image shape: torch.Size([28, 28])\n",
      "Total pixels: 784\n",
      "The label for this image: 9\n"
     ]
    },
    {
     "data": {
      "image/png": "[encoded data removed]",
      "text/plain": [
       "<Figure size 640x480 with 1 Axes>"
      ]
     },
     "metadata": {},
     "output_type": "display_data"
    }
   ],
   "source": [
    "# Pick a random example from the training set\n",
    "selection = random.randrange(len(train)-1)\n",
    "image, label = train[selection]\n",
    "\n",
    "# Plot the image\n",
    "print(f\"Default image shape: {image.shape}\")\n",
    "image = image.view([28,28])\n",
    "\n",
    "print(f\"Reshaped image shape: {image.shape}\")\n",
    "plt.imshow(image, cmap=\"gray\")\n",
    "\n",
    "print(f\"Total pixels: {image.shape[0] * image.shape[1]}\")\n",
    "\n",
    "# Print the label\n",
    "print(f\"The label for this image: {label}\")\n"
   ]
  },
  {
   "cell_type": "markdown",
   "metadata": {},
   "source": [
    "***\n",
    "\n",
    "### 4. Artificial neural network"
   ]
  },
  {
   "cell_type": "code",
   "execution_count": 10,
   "metadata": {},
   "outputs": [],
   "source": [
    "class MLP(nn.Module):\n",
    "\n",
    "  def __init__(self):\n",
    "    super().__init__()\n",
    "\n",
    "    #define layers\n",
    "    self.fc1 = nn.Linear(784, 300)\n",
    "    self.fc2 = nn.Linear(300, 10)    \n",
    "    self.relu = nn.ReLU()\n",
    "   \n",
    "  \n",
    "  def forward(self, x : torch.Tensor):\n",
    "\n",
    "    #define forward pass\n",
    "    x = self.relu(self.fc1(x))\n",
    "    #x = F.relu(x)\n",
    "    x = self.fc2(x)\n",
    "\n",
    "    return x"
   ]
  },
  {
   "cell_type": "markdown",
   "metadata": {},
   "source": [
    "### 5. Training hyperparameters"
   ]
  },
  {
   "cell_type": "code",
   "execution_count": 11,
   "metadata": {},
   "outputs": [],
   "source": [
    "LR = 0.1  # define the learning rate\n",
    "NUM_EPOCHS = 10 #define the number of epochs (i.e. passes over the dataset)\n",
    "criterion = nn.CrossEntropyLoss()  # The loss function"
   ]
  },
  {
   "cell_type": "markdown",
   "metadata": {},
   "source": [
    "Instantiate the model and optimizer"
   ]
  },
  {
   "cell_type": "code",
   "execution_count": 12,
   "metadata": {},
   "outputs": [],
   "source": [
    "model = MLP().to(DEVICE)   # Create an instance of the MLP model and move it to device (GPU or CPU)\n",
    "optimizer = torch.optim.SGD(model.parameters(), lr=LR) # The optimizer (here, SGD - you can also try ADAM)"
   ]
  },
  {
   "cell_type": "code",
   "execution_count": 13,
   "metadata": {},
   "outputs": [
    {
     "data": {
      "text/plain": [
       "MLP(\n",
       "  (fc1): Linear(in_features=784, out_features=300, bias=True)\n",
       "  (fc2): Linear(in_features=300, out_features=10, bias=True)\n",
       "  (relu): ReLU()\n",
       ")"
      ]
     },
     "execution_count": 13,
     "metadata": {},
     "output_type": "execute_result"
    }
   ],
   "source": [
    "model"
   ]
  },
  {
   "cell_type": "markdown",
   "metadata": {},
   "source": [
    "### 6. Training"
   ]
  },
  {
   "cell_type": "code",
   "execution_count": 14,
   "metadata": {},
   "outputs": [
    {
     "name": "stdout",
     "output_type": "stream",
     "text": [
      "Epoch [1/10]: Train Loss: 0.4739 | Train Accuracy: 87.58% | Val Loss: 0.2957 | Val Accuracy: 91.55%\n",
      "Epoch [2/10]: Train Loss: 0.2410 | Train Accuracy: 93.14% | Val Loss: 0.2296 | Val Accuracy: 93.36%\n",
      "Epoch [3/10]: Train Loss: 0.1829 | Train Accuracy: 94.84% | Val Loss: 0.1842 | Val Accuracy: 94.77%\n",
      "Epoch [4/10]: Train Loss: 0.1457 | Train Accuracy: 95.93% | Val Loss: 0.1569 | Val Accuracy: 95.42%\n",
      "Epoch [5/10]: Train Loss: 0.1216 | Train Accuracy: 96.58% | Val Loss: 0.1383 | Val Accuracy: 95.90%\n",
      "Epoch [6/10]: Train Loss: 0.1031 | Train Accuracy: 97.17% | Val Loss: 0.1295 | Val Accuracy: 96.33%\n",
      "Epoch [7/10]: Train Loss: 0.0900 | Train Accuracy: 97.51% | Val Loss: 0.1184 | Val Accuracy: 96.48%\n",
      "Epoch [8/10]: Train Loss: 0.0791 | Train Accuracy: 97.85% | Val Loss: 0.1132 | Val Accuracy: 96.72%\n",
      "Epoch [9/10]: Train Loss: 0.0704 | Train Accuracy: 98.06% | Val Loss: 0.1077 | Val Accuracy: 96.97%\n",
      "Epoch [10/10]: Train Loss: 0.0627 | Train Accuracy: 98.31% | Val Loss: 0.0995 | Val Accuracy: 97.08%\n"
     ]
    }
   ],
   "source": [
    "model, history = fit(\n",
    "    model,\n",
    "    train_loader = train_loader,\n",
    "    val_loader = val_loader,\n",
    "    device = DEVICE,\n",
    "    optimizer = optimizer,\n",
    "    criterion = criterion,\n",
    "    num_epochs = NUM_EPOCHS\n",
    ")"
   ]
  },
  {
   "cell_type": "markdown",
   "metadata": {},
   "source": [
    "### 7. Plot loss and accuracy"
   ]
  },
  {
   "cell_type": "code",
   "execution_count": 15,
   "metadata": {},
   "outputs": [
    {
     "data": {
      "image/png": "[encoded data removed]",
      "text/plain": [
       "<Figure size 1200x600 with 2 Axes>"
      ]
     },
     "metadata": {},
     "output_type": "display_data"
    }
   ],
   "source": [
    "plot_training_history(history)"
   ]
  },
  {
   "cell_type": "markdown",
   "metadata": {},
   "source": [
    "### 8. Evaluate"
   ]
  },
  {
   "cell_type": "code",
   "execution_count": 16,
   "metadata": {},
   "outputs": [
    {
     "name": "stdout",
     "output_type": "stream",
     "text": [
      "Evaluation Results:\n",
      "Loss: 0.0546, Accuracy: 98.63%\n",
      "\n",
      "Classification Report:\n",
      "              precision    recall  f1-score   support\n",
      "\n",
      "           0       0.99      0.99      0.99      4735\n",
      "           1       0.99      0.99      0.99      5383\n",
      "           2       0.99      0.98      0.99      4762\n",
      "           3       0.99      0.98      0.98      4886\n",
      "           4       0.98      0.99      0.99      4681\n",
      "           5       0.99      0.98      0.99      4368\n",
      "           6       0.99      0.99      0.99      4752\n",
      "           7       0.99      0.98      0.99      4983\n",
      "           8       0.97      0.99      0.98      4674\n",
      "           9       0.98      0.99      0.98      4776\n",
      "\n",
      "    accuracy                           0.99     48000\n",
      "   macro avg       0.99      0.99      0.99     48000\n",
      "weighted avg       0.99      0.99      0.99     48000\n",
      "\n"
     ]
    }
   ],
   "source": [
    "evaluate(\n",
    "    model = model,\n",
    "    data_loader = train_loader,  # evaluate on training data\n",
    "    criterion = criterion,\n",
    "    device = DEVICE,\n",
    ")"
   ]
  },
  {
   "cell_type": "code",
   "execution_count": 17,
   "metadata": {},
   "outputs": [
    {
     "name": "stdout",
     "output_type": "stream",
     "text": [
      "Evaluation Results:\n",
      "Loss: 0.0995, Accuracy: 97.08%\n",
      "\n",
      "Classification Report:\n",
      "              precision    recall  f1-score   support\n",
      "\n",
      "           0       0.98      0.97      0.98      1188\n",
      "           1       0.99      0.98      0.98      1359\n",
      "           2       0.97      0.96      0.97      1196\n",
      "           3       0.97      0.96      0.96      1245\n",
      "           4       0.96      0.98      0.97      1161\n",
      "           5       0.96      0.98      0.97      1053\n",
      "           6       0.98      0.98      0.98      1166\n",
      "           7       0.97      0.98      0.97      1282\n",
      "           8       0.96      0.97      0.97      1177\n",
      "           9       0.95      0.95      0.95      1173\n",
      "\n",
      "    accuracy                           0.97     12000\n",
      "   macro avg       0.97      0.97      0.97     12000\n",
      "weighted avg       0.97      0.97      0.97     12000\n",
      "\n"
     ]
    }
   ],
   "source": [
    "evaluate(\n",
    "    model = model,\n",
    "    data_loader = val_loader,  # evaluate on validation data\n",
    "    criterion = criterion,\n",
    "    device = DEVICE,\n",
    ")"
   ]
  },
  {
   "cell_type": "code",
   "execution_count": 18,
   "metadata": {},
   "outputs": [
    {
     "name": "stdout",
     "output_type": "stream",
     "text": [
      "Evaluation Results:\n",
      "Loss: 0.0841, Accuracy: 97.39%\n",
      "\n",
      "Classification Report:\n",
      "              precision    recall  f1-score   support\n",
      "\n",
      "           0       0.98      0.99      0.98       980\n",
      "           1       0.99      0.99      0.99      1135\n",
      "           2       0.98      0.97      0.97      1032\n",
      "           3       0.97      0.98      0.97      1010\n",
      "           4       0.96      0.98      0.97       982\n",
      "           5       0.98      0.97      0.97       892\n",
      "           6       0.98      0.97      0.97       958\n",
      "           7       0.97      0.97      0.97      1028\n",
      "           8       0.96      0.97      0.96       974\n",
      "           9       0.97      0.96      0.97      1009\n",
      "\n",
      "    accuracy                           0.97     10000\n",
      "   macro avg       0.97      0.97      0.97     10000\n",
      "weighted avg       0.97      0.97      0.97     10000\n",
      "\n"
     ]
    }
   ],
   "source": [
    "evaluate(\n",
    "    model = model,\n",
    "    data_loader = test_loader,  # evaluate on testing data\n",
    "    criterion = criterion,\n",
    "    device = DEVICE,\n",
    ")"
   ]
  },
  {
   "cell_type": "code",
   "execution_count": 19,
   "metadata": {},
   "outputs": [
    {
     "name": "stdout",
     "output_type": "stream",
     "text": [
      "tensor([-5.4167,  3.6162,  3.8202, 14.6537, -6.8350,  3.5246, -4.5722, -9.3097,\n",
      "         4.0130, -3.3434], grad_fn=<ViewBackward0>)\n",
      "Value: 14.6536865234375; Prediction: 3\n"
     ]
    },
    {
     "data": {
      "image/png": "[encoded data removed]",
      "text/plain": [
       "<Figure size 640x480 with 1 Axes>"
      ]
     },
     "metadata": {},
     "output_type": "display_data"
    }
   ],
   "source": [
    "#with help of my partner and pytorch documentation to create more of an output\n",
    "\n",
    "selection = random.randrange(len(train)-1)\n",
    "image, label = train[selection]\n",
    "image = image.view([28,28])\n",
    "\n",
    "plt.imshow(image, cmap=\"gray\")\n",
    "image = torch.flatten(image)\n",
    "\n",
    "result = model(image)\n",
    "print(result)\n",
    "value,prediction = torch.max(result,0)\n",
    "print(f\"Value: {value}; Prediction: {prediction}\")"
   ]
  }
 ],
 "metadata": {
  "kernelspec": {
   "display_name": "aiml25-ma1",
   "language": "python",
   "name": "python3"
  },
  "language_info": {
   "codemirror_mode": {
    "name": "ipython",
    "version": 3
   },
   "file_extension": ".py",
   "mimetype": "text/x-python",
   "name": "python",
   "nbconvert_exporter": "python",
   "pygments_lexer": "ipython3",
   "version": "3.13.1"
  }
 },
 "nbformat": 4,
 "nbformat_minor": 2
}
